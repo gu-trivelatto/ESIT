{
 "cells": [
  {
   "cell_type": "code",
   "execution_count": 28,
   "metadata": {},
   "outputs": [],
   "source": [
    "from langchain.prompts import PromptTemplate\n",
    "\n",
    "from langchain_core.output_parsers import StrOutputParser\n",
    "from langchain_core.output_parsers import JsonOutputParser"
   ]
  },
  {
   "cell_type": "code",
   "execution_count": 29,
   "metadata": {},
   "outputs": [],
   "source": [
    "import yaml\n",
    "\n",
    "with open('secrets.yml', 'r') as f:\n",
    "    secrets = yaml.load(f, Loader=yaml.SafeLoader)"
   ]
  },
  {
   "cell_type": "code",
   "execution_count": 30,
   "metadata": {},
   "outputs": [],
   "source": [
    "from langchain_groq import ChatGroq\n",
    "import os\n",
    "\n",
    "os.environ[\"GROQ_API_KEY\"] = secrets['groq'][0]\n",
    "chat_model = ChatGroq(\n",
    "            model=\"llama3-70b-8192\",\n",
    "        )\n",
    "json_model = ChatGroq(\n",
    "            model=\"llama3-70b-8192\",\n",
    "        ).bind(response_format={\"type\": \"json_object\"})"
   ]
  },
  {
   "cell_type": "markdown",
   "metadata": {},
   "source": [
    "## Model modifier"
   ]
  },
  {
   "cell_type": "code",
   "execution_count": 31,
   "metadata": {},
   "outputs": [],
   "source": [
    "#%pip install openpyxl"
   ]
  },
  {
   "cell_type": "code",
   "execution_count": 32,
   "metadata": {},
   "outputs": [],
   "source": [
    "params_prompt = PromptTemplate(\n",
    "    template=\"\"\"<|begin_of_text|><|start_header_id|>system<|end_header_id|>\n",
    "    You are a specialist at identifying the correct conversion subprocess and the correct parameter\n",
    "    selected by the user in his QUERY. \\n\n",
    "    \n",
    "    As a context, you will receive two data arrays. PARAMS provides you the name of the parameters\n",
    "    available to be selected. CONVERSION_SUBPROCESSES provides you the combination of 'cp' (conversion process name),\n",
    "    'cin' (commodity in), 'cout' (commodity out) and 'scen' (scenario) in the format 'cp@cin@cout@scen'.\\n\n",
    "    \n",
    "    Your goal is to output a JSON object containing three keys: 'param', 'value', 'cs_list'.\n",
    "    'param' must receive the name of the selected parameter;\n",
    "    'value' is the new value selected by the user;\n",
    "    'cs_list' is a list with all matching conversion subprocesses (idealy only one if possible); \\n\n",
    "    \n",
    "    NEVER MAKE UP DATA, USE ONLY DATA FROM THE GIVEN LIST. If you can't find any match to the 'cp' name, leave the field\n",
    "    'cs_list' empty. \\n\n",
    "    \n",
    "    The field 'value' only accepts numeric input. \\n\n",
    "\n",
    "    <|eot_id|><|start_header_id|>user<|end_header_id|>\n",
    "    QUERY: {query} \\n\n",
    "    PARAMS: {params} \\n\n",
    "    CONVERSION_SUBPROCESSES: {CSs} \\n\n",
    "    Answer:\n",
    "    <|eot_id|>\n",
    "    <|start_header_id|>assistant<|end_header_id|>\n",
    "    \"\"\",\n",
    "    input_variables=[\"query\",\"params\",\"CSs\"],\n",
    ")\n",
    "\n",
    "params_chain = params_prompt | json_model | JsonOutputParser()"
   ]
  },
  {
   "cell_type": "code",
   "execution_count": 33,
   "metadata": {},
   "outputs": [],
   "source": [
    "import pandas as pd\n",
    "import numpy as np\n",
    "\n",
    "tmap = pd.ExcelFile('Models/DEModel.xlsx')\n",
    "df = pd.read_excel(tmap,\"ConversionSubProcess\")\n",
    "\n",
    "conversion_processes = np.asarray(df.iloc[:,0].dropna())\n",
    "mask = np.where(conversion_processes != 'DEBUG')\n",
    "conversion_processes = conversion_processes[mask]\n",
    "parameters = np.asarray(df.columns[4:])\n",
    "\n",
    "cs = np.asarray(df.iloc[:,0:4].dropna())\n",
    "mask = np.where(cs[:,0] != 'DEBUG')\n",
    "cs = cs[mask]\n",
    "conversion_subprocesses = np.empty((len(cs),1),dtype=object)\n",
    "\n",
    "for i in range(len(cs)):\n",
    "    conversion_subprocesses[i] = f'{cs[i,0]}@{cs[i,1]}@{cs[i,2]}@{cs[i,3]}'"
   ]
  },
  {
   "cell_type": "code",
   "execution_count": 34,
   "metadata": {},
   "outputs": [
    {
     "data": {
      "text/plain": [
       "{'param': 'wtf_factor', 'value': 100, 'cs_list': []}"
      ]
     },
     "execution_count": 34,
     "metadata": {},
     "output_type": "execute_result"
    }
   ],
   "source": [
    "#query = 'Modify the operational cost of biomass CHPs with help_biomass_chp as input and electricity as output to 1000'\n",
    "query = 'Modify the wtf factor of go kart generators to 100'\n",
    "\n",
    "params_chain.invoke({\"query\": query, \"params\": parameters, \"CSs\": conversion_subprocesses})"
   ]
  },
  {
   "cell_type": "code",
   "execution_count": 35,
   "metadata": {},
   "outputs": [],
   "source": [
    "import pandas as pd\n",
    "import numpy as np\n",
    "\n",
    "def param_selector(state):\n",
    "\n",
    "    print(\"---PARAM SELECTOR---\")\n",
    "    query = state['query']\n",
    "    num_steps = state['num_steps']\n",
    "    parameters = state['parameters']\n",
    "    conversion_subprocesses = state['CSs']\n",
    "    num_steps += 1\n",
    "\n",
    "    tmap = pd.ExcelFile('Models/DEModel.xlsx')\n",
    "    df = pd.read_excel(tmap,\"ConversionSubProcess\")\n",
    "\n",
    "    conversion_processes = np.asarray(df.iloc[:,0].dropna())\n",
    "    mask = np.where(conversion_processes != 'DEBUG')\n",
    "    conversion_processes = conversion_processes[mask]\n",
    "    parameters = np.asarray(df.columns[4:])\n",
    "\n",
    "    cs = np.asarray(df.iloc[:,0:4].dropna())\n",
    "    mask = np.where(cs[:,0] != 'DEBUG')\n",
    "    cs = cs[mask]\n",
    "    conversion_subprocesses = np.empty((len(cs),1),dtype=object)\n",
    "\n",
    "    for i in range(len(cs)):\n",
    "        conversion_subprocesses[i] = f'{cs[i,0]}@{cs[i,1]}@{cs[i,2]}@{cs[i,3]}'\n",
    "\n",
    "    output = params_chain.invoke({\"query\": query, \"params\": parameters, \"CSs\": conversion_subprocesses})\n",
    "    \n",
    "    return {\"output\": output,\n",
    "            \"num_steps\": num_steps}"
   ]
  },
  {
   "cell_type": "code",
   "execution_count": 36,
   "metadata": {},
   "outputs": [],
   "source": [
    "from tabulate import tabulate\n",
    "\n",
    "def confirm_selection(state):\n",
    "    \n",
    "    print('---CONFIRM SELECTION---')\n",
    "    output = state['output']\n",
    "    cs_list = output['cs_list']\n",
    "    param = output['param']\n",
    "    num_steps = state['num_steps']\n",
    "    num_steps += 1\n",
    "    \n",
    "    tmap = pd.ExcelFile('Models/DEModel.xlsx')\n",
    "    df = pd.read_excel(tmap,\"ConversionSubProcess\")\n",
    "    parameters = np.asarray(df.columns[4:])\n",
    "    \n",
    "    data = []\n",
    "    for i in range(len(cs_list)):\n",
    "        elements = cs_list[i].split('@')\n",
    "        data.append([i+1,elements[0],elements[1],elements[2],elements[3]])\n",
    "        table = tabulate(data, headers=[\"Index\", \"CP\", \"CIN\", \"COUT\", \"Scen\"])\n",
    "    \n",
    "    if len(data) == 0:\n",
    "        print('No matching conversion subprocess was found.')\n",
    "        cs_confirm = 'N'\n",
    "    elif len(data) == 1:\n",
    "        print('The following matching conversion subprocess was found:\\n')\n",
    "        print(table)\n",
    "        cs_confirm = input('Is that correct? (Y or N)\\n')\n",
    "        cs_select = 0 if cs_confirm == 'Y' else 'NONE'\n",
    "    else:\n",
    "        print('The following conversion subprocesses were found:\\n')\n",
    "        print(table)\n",
    "        cs_select = int(input('Input the number of the correct CS (or 0 if it\\'s none of these):\\n')) - 1\n",
    "        cs_confirm = 'Y' if cs_select != -1 else 'N'\n",
    "    \n",
    "    if cs_confirm == 'N':\n",
    "        return {\"final_answer\": 'No matching selection'}\n",
    "        \n",
    "    if param in parameters:\n",
    "        param_confirm = input(f'You want to modify the parameter {param}, is that correct? (Y or N)\\n')\n",
    "    else:\n",
    "        print('No matching parameter was found.')\n",
    "        param_confirm = 'N'\n",
    "        \n",
    "    if param_confirm == 'N':\n",
    "        return {\"final_answer\": 'No matching selection'}\n",
    "    else:\n",
    "        return {\"final_answer\": f'CS: {cs_list[cs_select]}; Param: {param}'}"
   ]
  },
  {
   "cell_type": "code",
   "execution_count": 37,
   "metadata": {},
   "outputs": [],
   "source": [
    "def print_final(state):\n",
    "    final = state['final_answer']\n",
    "    print(f'FINAL ANSWER: {final}')\n",
    "    \n",
    "    return None"
   ]
  },
  {
   "cell_type": "code",
   "execution_count": 38,
   "metadata": {},
   "outputs": [],
   "source": [
    "def param_router(state):\n",
    "    \n",
    "    print(\"---PARAM ROUTER---\")\n",
    "    output = state['output']\n",
    "    \n",
    "    if output['found_cps'] == 1:\n",
    "        return 'confirm_selection'\n",
    "    elif output['found_cps'] > 1:\n",
    "        return 'select_from_found'\n",
    "    else:\n",
    "        return 'param_not_found'"
   ]
  },
  {
   "cell_type": "code",
   "execution_count": 39,
   "metadata": {},
   "outputs": [],
   "source": [
    "from langchain.schema import Document\n",
    "from langgraph.graph import END, StateGraph\n",
    "from typing_extensions import TypedDict\n",
    "from typing import List\n",
    "\n",
    "### State\n",
    "\n",
    "class GraphState(TypedDict):\n",
    "    \"\"\"\n",
    "    Represents the state of our graph.\n",
    "\n",
    "    Attributes:\n",
    "        initial_query: user input\n",
    "        next_query: partial query generated by the agent\n",
    "        num_steps: number of steps\n",
    "        selected_tool: name of the selected tool\n",
    "        rag_questions: questions used for retrieval\n",
    "        tool_parameters: parameters to be used by tools\n",
    "        context: list of context generated for the query\n",
    "        complete_data: indicates completeness of data\n",
    "        final_answer: LLM generation\n",
    "    \"\"\"\n",
    "    query : str\n",
    "    parameters: List[str]\n",
    "    CSs: List[str]\n",
    "    num_steps : int\n",
    "    user_answer: str\n",
    "    output: str\n",
    "    final_answer : str\n",
    "\n",
    "workflow = StateGraph(GraphState)\n",
    "\n",
    "# Define the nodes\n",
    "workflow.add_node(\"param_selector\", param_selector)\n",
    "workflow.add_node(\"confirm_selection\", confirm_selection)\n",
    "workflow.add_node(\"print_final\", print_final)"
   ]
  },
  {
   "cell_type": "code",
   "execution_count": 40,
   "metadata": {},
   "outputs": [],
   "source": [
    "workflow.set_entry_point(\"param_selector\")\n",
    "workflow.add_edge(\"param_selector\", \"confirm_selection\")\n",
    "workflow.add_edge(\"confirm_selection\", \"print_final\")\n",
    "workflow.add_edge(\"print_final\", END)"
   ]
  },
  {
   "cell_type": "code",
   "execution_count": 41,
   "metadata": {},
   "outputs": [],
   "source": [
    "app = workflow.compile()"
   ]
  },
  {
   "cell_type": "code",
   "execution_count": 44,
   "metadata": {},
   "outputs": [
    {
     "name": "stdout",
     "output_type": "stream",
     "text": [
      "---PARAM SELECTOR---\n",
      "Finished running: param_selector:\n",
      "---CONFIRM SELECTION---\n",
      "The following conversion subprocesses were found:\n",
      "\n",
      "  Index  CP                          CIN          COUT                    Scen\n",
      "-------  --------------------------  -----------  ----------------------  -----------\n",
      "      1  PP_Biomass                  Biomass      Electricity             Base\n",
      "      2  PP_Coal                     Coal         Electricity             Base\n",
      "      3  PP_Gas                      Gas          Electricity             Base\n",
      "      4  PP_Lignite                  Lignite      Electricity             Base\n",
      "      5  PP_Nuclear                  Uranium      Electricity             Base\n",
      "      6  PP_PV_Res                   Dummy        Electricity             Base\n",
      "      7  PP_PV_New                   Dummy        Electricity             Base\n",
      "      8  PP_Run_of_River             Dummy        Electricity             Base\n",
      "      9  PP_WindOff_Res              Dummy        Electricity             Base\n",
      "     10  PP_WindOff_New              Dummy        Electricity             Base\n",
      "     11  PP_WindOn_Res               Dummy        Electricity             Base\n",
      "     12  PP_WindOn_New               Dummy        Electricity             Base\n",
      "     13  Furnace_Coal                Coal         Industrial_Heat_HT      Base\n",
      "     14  Furnace_Electric            Electricity  Industrial_Heat_HT      Base\n",
      "     15  Furnace_Gas                 Gas          Industrial_Heat_HT      Base\n",
      "     16  Central_Biomass_Boiler      Biomass      Industrial_Heat_LT      Base\n",
      "     17  Central_Heat_Pump           Electricity  Industrial_Heat_LT      Base\n",
      "     18  Central_Waste_Boiler        Waste        Industrial_Heat_LT      Base\n",
      "     19  Decentral_Biomass_Heater    Biomass      Decentral_Heat          Base\n",
      "     20  Decentral_Gas_Heater        Gas          Decentral_Heat          Base\n",
      "     21  Decentral_Heat_Pump         Electricity  Decentral_Heat          Base\n",
      "     22  Decentral_Oil_Heater        Liquid_Fuel  Decentral_Heat          Base\n",
      "     23  Decentral_Resistive_Heater  Electricity  Decentral_Heat          Base\n",
      "     24  Biomass_CHP                 Biomass      Help_Biomass_CHP        Electricity\n",
      "     25  Coal_CHP                    Coal         Help_Coal_CHP           Electricity\n",
      "     26  Gas_CHP                     Gas          Help_Gas_CHP            Electricity\n",
      "     27  ICV                         Liquid_Fuel  Propulsion_of_Vehicles  Base\n",
      "     28  BEV                         Electricity  Propulsion_of_Vehicles  Base\n",
      "     29  Power-to-Gas                Electricity  H2                      Base\n",
      "Finished running: confirm_selection:\n",
      "FINAL ANSWER: CS: PP_PV_New@Dummy@Electricity@Base; Param: opex_cost_energy\n"
     ]
    }
   ],
   "source": [
    "query = 'Modify the operational cost of biomass CHPs with electricity output to 1000'\n",
    "\n",
    "inputs = {\"query\": query, \"parameters\": parameters, \"CSs\": conversion_subprocesses, \"num_steps\": 0,}\n",
    "for output in app.stream(inputs, {\"recursion_limit\": 50}):\n",
    "    for key, value in output.items():\n",
    "        print(f\"Finished running: {key}:\")"
   ]
  }
 ],
 "metadata": {
  "kernelspec": {
   "display_name": "llama",
   "language": "python",
   "name": "python3"
  },
  "language_info": {
   "codemirror_mode": {
    "name": "ipython",
    "version": 3
   },
   "file_extension": ".py",
   "mimetype": "text/x-python",
   "name": "python",
   "nbconvert_exporter": "python",
   "pygments_lexer": "ipython3",
   "version": "3.1.-1"
  }
 },
 "nbformat": 4,
 "nbformat_minor": 2
}
