{
 "cells": [
  {
   "cell_type": "code",
   "execution_count": 191,
   "metadata": {},
   "outputs": [],
   "source": [
    "from langchain.prompts import PromptTemplate\n",
    "\n",
    "from langchain_core.output_parsers import StrOutputParser\n",
    "from langchain_core.output_parsers import JsonOutputParser"
   ]
  },
  {
   "cell_type": "code",
   "execution_count": 192,
   "metadata": {},
   "outputs": [],
   "source": [
    "import yaml\n",
    "\n",
    "with open('secrets.yml', 'r') as f:\n",
    "    secrets = yaml.load(f, Loader=yaml.SafeLoader)"
   ]
  },
  {
   "cell_type": "code",
   "execution_count": 193,
   "metadata": {},
   "outputs": [],
   "source": [
    "from langchain_groq import ChatGroq\n",
    "import os\n",
    "\n",
    "os.environ[\"GROQ_API_KEY\"] = secrets['groq'][0]\n",
    "chat_model = ChatGroq(\n",
    "            model=\"llama3-70b-8192\",\n",
    "        )\n",
    "json_model = ChatGroq(\n",
    "            model=\"llama3-70b-8192\",\n",
    "        ).bind(response_format={\"type\": \"json_object\"})"
   ]
  },
  {
   "cell_type": "markdown",
   "metadata": {},
   "source": [
    "## Model modifier"
   ]
  },
  {
   "cell_type": "code",
   "execution_count": 194,
   "metadata": {},
   "outputs": [],
   "source": [
    "#%pip install openpyxl"
   ]
  },
  {
   "cell_type": "code",
   "execution_count": 195,
   "metadata": {},
   "outputs": [],
   "source": [
    "import pandas as pd\n",
    "import numpy as np\n",
    "\n",
    "tmap = pd.ExcelFile('Models/DEModel.xlsx')\n",
    "df = pd.read_excel(tmap,\"ConversionSubProcess\")\n",
    "\n",
    "conversion_processes = np.asarray(df.iloc[:,0].dropna())\n",
    "mask = np.where(conversion_processes != 'DEBUG')\n",
    "conversion_processes = conversion_processes[mask]\n",
    "parameters = np.asarray(df.columns[4:])"
   ]
  },
  {
   "cell_type": "code",
   "execution_count": 196,
   "metadata": {},
   "outputs": [],
   "source": [
    "cs = np.asarray(df.iloc[:,0:4].dropna())\n",
    "mask = np.where(cs[:,0] != 'DEBUG')\n",
    "cs = cs[mask]\n",
    "conversion_subprocesses = np.empty((len(cs),1),dtype=object)\n",
    "\n",
    "for i in range(len(cs)):\n",
    "    conversion_subprocesses[i] = f'{cs[i,0]}@{cs[i,1]}@{cs[i,2]}@{cs[i,3]}'"
   ]
  },
  {
   "cell_type": "code",
   "execution_count": 232,
   "metadata": {},
   "outputs": [],
   "source": [
    "params_prompt = PromptTemplate(\n",
    "    template=\"\"\"<|begin_of_text|><|start_header_id|>system<|end_header_id|>\n",
    "    You are a specialist at identifying the correct conversion subprocess and the correct parameter\n",
    "    selected by the user in his QUERY. \\n\n",
    "    \n",
    "    As a context, you will receive two data arrays. PARAMS provides you the name of the parameters\n",
    "    available to be selected. CONVERSION_SUBPROCESSES provides you the combination of 'cp' (conversion process name),\n",
    "    'cin' (commodity in), 'cout' (commodity out) and 'scen' (scenario) in the format 'cp@cin@cout@scen'.\\n\n",
    "    \n",
    "    Your goal is to output a JSON object containing four keys: 'param', 'value', 'cs_list', 'total_cs'.\n",
    "    'param' must receive the name of the selected parameter;\n",
    "    'value' is the new value selected by the user;\n",
    "    'cs_list' is a list with all matching conversion subprocesses (idealy only one if possible);\n",
    "    'total_cs' is the number of conversion subprocesses that possibly match the user's request; \\n\n",
    "    \n",
    "    NEVER MAKE UP DATA, USE ONLY DATA FROM THE GIVEN LIST. If you can't find any match to the 'cp' name, fill  the\n",
    "    field 'cp' with 'NOT_FOUND'. \\n\n",
    "    \n",
    "    The field 'value' only accepts numeric input. \\n\n",
    "\n",
    "    <|eot_id|><|start_header_id|>user<|end_header_id|>\n",
    "    QUERY: {query} \\n\n",
    "    PARAMS: {params} \\n\n",
    "    CONVERSION_SUBPROCESSES: {CSs} \\n\n",
    "    Answer:\n",
    "    <|eot_id|>\n",
    "    <|start_header_id|>assistant<|end_header_id|>\n",
    "    \"\"\",\n",
    "    input_variables=[\"query\",\"params\",\"CSs\"],\n",
    ")\n",
    "\n",
    "params_chain = params_prompt | json_model | JsonOutputParser()"
   ]
  },
  {
   "cell_type": "code",
   "execution_count": 234,
   "metadata": {},
   "outputs": [
    {
     "data": {
      "text/plain": [
       "{'param': 'opex_cost_energy',\n",
       " 'value': 1000,\n",
       " 'cs_list': ['Biomass_CHP@Biomass@Help_Biomass_CHP@Electricity@Base'],\n",
       " 'total_cs': 1}"
      ]
     },
     "execution_count": 234,
     "metadata": {},
     "output_type": "execute_result"
    }
   ],
   "source": [
    "query = 'Modify the operational cost of biomass CHPs with help_biomass_chp as input and electricity as output to 1000'\n",
    "\n",
    "params_chain.invoke({\"query\": query, \"params\": parameters, \"CSs\": conversion_subprocesses})"
   ]
  },
  {
   "cell_type": "code",
   "execution_count": 208,
   "metadata": {},
   "outputs": [],
   "source": [
    "def param_selector(state):\n",
    "\n",
    "    print(\"---PARAM SELECTOR---\")\n",
    "    query = state['query']\n",
    "    num_steps = state['num_steps']\n",
    "    parameters = state['parameters']\n",
    "    conversion_subprocesses = state['CSs']\n",
    "    num_steps += 1\n",
    "\n",
    "    output = params_chain.invoke({\"query\": query, \"params\": parameters, \"CSs\": conversion_subprocesses})\n",
    "    \n",
    "    return {\"output\": output,\n",
    "            \"num_steps\": num_steps}"
   ]
  },
  {
   "cell_type": "code",
   "execution_count": 202,
   "metadata": {},
   "outputs": [],
   "source": [
    "def confirm_selection(state):\n",
    "    \n",
    "    print('---CONFIRM SELECTION---')\n",
    "    output = state['output']\n",
    "    \n",
    "    print('The following selection of conversion subprocess and parameter was found:\\n')\n",
    "    print(f\"CP: {output['cp']} CIN: {output['cin']} COUT: {output['cout']} SCEN: {output['scen']} PARAMETER: {output['param']}\\n\")\n",
    "    \n",
    "    answer = input('Is that correct? (Y or N)\\n')\n",
    "    \n",
    "    return {\"final_answer\": 'The selected parameter was modified!'} if answer == 'Y' else {\"final_answer\": 'Aborted'}"
   ]
  },
  {
   "cell_type": "code",
   "execution_count": 223,
   "metadata": {},
   "outputs": [],
   "source": [
    "from tabulate import tabulate\n",
    "\n",
    "def select_from_found(state):\n",
    "    \n",
    "    print('---SELECT CORRECT CS---')\n",
    "    output = state['output']\n",
    "    CSs = output['found_CSs']\n",
    "    \n",
    "    data = []\n",
    "    print('The following conversion subprocesses were found:\\n')\n",
    "    for i in range(len(CSs)):\n",
    "        elements = CSs[i].split('@')\n",
    "        data.append([i,elements[0],elements[1],elements[2],elements[3]])\n",
    "        \n",
    "    print (tabulate(data, headers=[\"Index\", \"CP\", \"CIN\", \"COUT\", \"Scen\"]))\n",
    "    \n",
    "    answer = input('Input the number of the correct CS:\\n')\n",
    "    \n",
    "    return {\"final_answer\": CSs[int(answer)]}"
   ]
  },
  {
   "cell_type": "code",
   "execution_count": 204,
   "metadata": {},
   "outputs": [],
   "source": [
    "def print_final(state):\n",
    "    final = state['final_answer']\n",
    "    print(f'FINAL ANSWER: {final}')\n",
    "    \n",
    "    return None"
   ]
  },
  {
   "cell_type": "code",
   "execution_count": 205,
   "metadata": {},
   "outputs": [],
   "source": [
    "def param_router(state):\n",
    "    \n",
    "    print(\"---PARAM ROUTER---\")\n",
    "    output = state['output']\n",
    "    \n",
    "    if output['found_cps'] == 1:\n",
    "        return 'confirm_selection'\n",
    "    elif output['found_cps'] > 1:\n",
    "        return 'select_from_found'\n",
    "    else:\n",
    "        return 'param_not_found'"
   ]
  },
  {
   "cell_type": "code",
   "execution_count": 224,
   "metadata": {},
   "outputs": [],
   "source": [
    "from langchain.schema import Document\n",
    "from langgraph.graph import END, StateGraph\n",
    "from typing_extensions import TypedDict\n",
    "from typing import List\n",
    "\n",
    "### State\n",
    "\n",
    "class GraphState(TypedDict):\n",
    "    \"\"\"\n",
    "    Represents the state of our graph.\n",
    "\n",
    "    Attributes:\n",
    "        initial_query: user input\n",
    "        next_query: partial query generated by the agent\n",
    "        num_steps: number of steps\n",
    "        selected_tool: name of the selected tool\n",
    "        rag_questions: questions used for retrieval\n",
    "        tool_parameters: parameters to be used by tools\n",
    "        context: list of context generated for the query\n",
    "        complete_data: indicates completeness of data\n",
    "        final_answer: LLM generation\n",
    "    \"\"\"\n",
    "    query : str\n",
    "    parameters: List[str]\n",
    "    CSs: List[str]\n",
    "    num_steps : int\n",
    "    user_answer: str\n",
    "    output: str\n",
    "    final_answer : str\n",
    "\n",
    "workflow = StateGraph(GraphState)\n",
    "\n",
    "# Define the nodes\n",
    "workflow.add_node(\"param_selector\", param_selector)\n",
    "workflow.add_node(\"confirm_selection\", confirm_selection)\n",
    "workflow.add_node(\"select_from_found\", select_from_found)\n",
    "workflow.add_node(\"print_final\", print_final)"
   ]
  },
  {
   "cell_type": "code",
   "execution_count": 225,
   "metadata": {},
   "outputs": [],
   "source": [
    "workflow.set_entry_point(\"param_selector\")\n",
    "workflow.add_conditional_edges(\n",
    "    \"param_selector\",\n",
    "    param_router,\n",
    "    {\n",
    "        \"confirm_selection\": \"confirm_selection\",\n",
    "        \"select_from_found\": \"select_from_found\",\n",
    "        \"param_not_found\": END,\n",
    "    }\n",
    ")\n",
    "\n",
    "\n",
    "workflow.add_edge(\"confirm_selection\", \"print_final\")\n",
    "workflow.add_edge(\"select_from_found\", \"print_final\")\n",
    "workflow.add_edge(\"print_final\", END)"
   ]
  },
  {
   "cell_type": "code",
   "execution_count": 226,
   "metadata": {},
   "outputs": [],
   "source": [
    "app = workflow.compile()"
   ]
  },
  {
   "cell_type": "code",
   "execution_count": 227,
   "metadata": {},
   "outputs": [
    {
     "name": "stdout",
     "output_type": "stream",
     "text": [
      "---PARAM SELECTOR---\n",
      "---PARAM ROUTER---\n",
      "Finished running: param_selector:\n",
      "---SELECT CORRECT CS---\n",
      "The following conversion subprocesses were found:\n",
      "\n",
      "  Index  CP           CIN               COUT                Scen\n",
      "-------  -----------  ----------------  ------------------  ------\n",
      "      0  Biomass_CHP  Biomass           Help_Biomass_CHP    Base\n",
      "      1  Biomass_CHP  Help_Biomass_CHP  Dummy               Base\n",
      "      2  Biomass_CHP  Help_Biomass_CHP  Electricity         Base\n",
      "      3  Biomass_CHP  Help_Biomass_CHP  Industrial_Heat_LT  Base\n",
      "Finished running: select_from_found:\n",
      "FINAL ANSWER: Biomass_CHP@Biomass@Help_Biomass_CHP@Base\n"
     ]
    }
   ],
   "source": [
    "query = 'Modify the operational cost of biomass CHPs to 1000'\n",
    "\n",
    "inputs = {\"query\": query, \"parameters\": parameters, \"CSs\": conversion_subprocesses, \"num_steps\": 0,}\n",
    "for output in app.stream(inputs, {\"recursion_limit\": 50}):\n",
    "    for key, value in output.items():\n",
    "        print(f\"Finished running: {key}:\")"
   ]
  }
 ],
 "metadata": {
  "kernelspec": {
   "display_name": "llama",
   "language": "python",
   "name": "python3"
  },
  "language_info": {
   "codemirror_mode": {
    "name": "ipython",
    "version": 3
   },
   "file_extension": ".py",
   "mimetype": "text/x-python",
   "name": "python",
   "nbconvert_exporter": "python",
   "pygments_lexer": "ipython3",
   "version": "3.10.14"
  }
 },
 "nbformat": 4,
 "nbformat_minor": 2
}
